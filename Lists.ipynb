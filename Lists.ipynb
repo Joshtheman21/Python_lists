{
 "cells": [
  {
   "cell_type": "code",
   "execution_count": 6,
   "metadata": {},
   "outputs": [
    {
     "name": "stdout",
     "output_type": "stream",
     "text": [
      "['apple', 'pear', 'banana', 'cherry', 'mango']\n"
     ]
    }
   ],
   "source": [
    "# Creating a list variable\n",
    "\n",
    "fruit = [\"apple\", \"pear\", \"banana\", \"cherry\", \"mango\"]\n",
    "newfruits = [\"kiwi\", \"guave\", \"jackfruit\"]\n",
    "print(fruit)"
   ]
  },
  {
   "cell_type": "code",
   "execution_count": 7,
   "metadata": {},
   "outputs": [
    {
     "name": "stdout",
     "output_type": "stream",
     "text": [
      "Fruits you wish to add: watermelon\n",
      "watermelon appears 1 times in the list: \n",
      "['apple', 'pear', 'banana', 'cherry', 'mango', 'watermelon']\n"
     ]
    }
   ],
   "source": [
    "#  Inputting a new fruit to add\n",
    "\n",
    "entry = input(\" Enter a new fruit to add: \")\n",
    "print(\"Fruits you wish to add: \"  + entry)\n",
    "fruit.append(entry)\n",
    "print(str(entry) + \" appears \" + str(fruit.count(entry)) + \" times in the list: \")\n",
    "print(fruit)"
   ]
  },
  {
   "cell_type": "code",
   "execution_count": 8,
   "metadata": {},
   "outputs": [
    {
     "name": "stdout",
     "output_type": "stream",
     "text": [
      " It appears first at index: 5\n",
      "['apple', 'pear', 'banana', 'cherry', 'mango', 'watermelon']\n"
     ]
    }
   ],
   "source": [
    "# Taking the fruit that I added and showing where it appears in my index\n",
    "\n",
    "print(\" It appears first at index: \" + str(fruit.index(entry)))\n",
    "print(fruit)\n",
    "\n"
   ]
  },
  {
   "cell_type": "code",
   "execution_count": 9,
   "metadata": {},
   "outputs": [
    {
     "name": "stdout",
     "output_type": "stream",
     "text": [
      "['apple', 'pear', 'banana', 'cherry', 'mango', 'watermelon', 'kiwi', 'guave', 'jackfruit']\n"
     ]
    }
   ],
   "source": [
    "# Adding new fruits to my list\n",
    "\n",
    "fruit.extend(newfruits)\n",
    "print(fruit)\n"
   ]
  },
  {
   "cell_type": "code",
   "execution_count": null,
   "metadata": {},
   "outputs": [],
   "source": []
  }
 ],
 "metadata": {
  "interpreter": {
   "hash": "aee8b7b246df8f9039afb4144a1f6fd8d2ca17a180786b69acc140d282b71a49"
  },
  "kernelspec": {
   "display_name": "Python 3.9.7 64-bit",
   "name": "python3"
  },
  "language_info": {
   "codemirror_mode": {
    "name": "ipython",
    "version": 3
   },
   "file_extension": ".py",
   "mimetype": "text/x-python",
   "name": "python",
   "nbconvert_exporter": "python",
   "pygments_lexer": "ipython3",
   "version": "3.9.7"
  },
  "orig_nbformat": 4
 },
 "nbformat": 4,
 "nbformat_minor": 2
}
